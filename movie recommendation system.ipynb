{
 "cells": [
  {
   "cell_type": "code",
   "execution_count": 1,
   "metadata": {},
   "outputs": [
    {
     "name": "stderr",
     "output_type": "stream",
     "text": [
      "Using TensorFlow backend.\n"
     ]
    }
   ],
   "source": [
    "import numpy as np\n",
    "import pandas as pd\n",
    "import matplotlib.pyplot as plt\n",
    "import os\n",
    "import warnings\n",
    "from keras.layers import Input, Embedding, Flatten, Dot, Dense, Concatenate, Reshape, Dropout\n",
    "from keras.models import Model\n",
    "from keras.layers.embeddings import Embedding\n",
    "from keras.optimizers import Adam\n",
    "\n",
    "warnings.filterwarnings('ignore')\n",
    "%matplotlib inline"
   ]
  },
  {
   "cell_type": "code",
   "execution_count": 2,
   "metadata": {},
   "outputs": [],
   "source": [
    "ratings = pd.read_csv(\"goodbooks-10k/ratings.csv\")"
   ]
  },
  {
   "cell_type": "code",
   "execution_count": 3,
   "metadata": {},
   "outputs": [
    {
     "data": {
      "text/html": [
       "<div>\n",
       "<style scoped>\n",
       "    .dataframe tbody tr th:only-of-type {\n",
       "        vertical-align: middle;\n",
       "    }\n",
       "\n",
       "    .dataframe tbody tr th {\n",
       "        vertical-align: top;\n",
       "    }\n",
       "\n",
       "    .dataframe thead th {\n",
       "        text-align: right;\n",
       "    }\n",
       "</style>\n",
       "<table border=\"1\" class=\"dataframe\">\n",
       "  <thead>\n",
       "    <tr style=\"text-align: right;\">\n",
       "      <th></th>\n",
       "      <th>book_id</th>\n",
       "      <th>user_id</th>\n",
       "      <th>rating</th>\n",
       "    </tr>\n",
       "  </thead>\n",
       "  <tbody>\n",
       "    <tr>\n",
       "      <th>0</th>\n",
       "      <td>1</td>\n",
       "      <td>314</td>\n",
       "      <td>5</td>\n",
       "    </tr>\n",
       "    <tr>\n",
       "      <th>1</th>\n",
       "      <td>1</td>\n",
       "      <td>439</td>\n",
       "      <td>3</td>\n",
       "    </tr>\n",
       "    <tr>\n",
       "      <th>2</th>\n",
       "      <td>1</td>\n",
       "      <td>588</td>\n",
       "      <td>5</td>\n",
       "    </tr>\n",
       "    <tr>\n",
       "      <th>3</th>\n",
       "      <td>1</td>\n",
       "      <td>1169</td>\n",
       "      <td>4</td>\n",
       "    </tr>\n",
       "    <tr>\n",
       "      <th>4</th>\n",
       "      <td>1</td>\n",
       "      <td>1185</td>\n",
       "      <td>4</td>\n",
       "    </tr>\n",
       "  </tbody>\n",
       "</table>\n",
       "</div>"
      ],
      "text/plain": [
       "   book_id  user_id  rating\n",
       "0        1      314       5\n",
       "1        1      439       3\n",
       "2        1      588       5\n",
       "3        1     1169       4\n",
       "4        1     1185       4"
      ]
     },
     "execution_count": 3,
     "metadata": {},
     "output_type": "execute_result"
    }
   ],
   "source": [
    "ratings.head()"
   ]
  },
  {
   "cell_type": "code",
   "execution_count": 4,
   "metadata": {},
   "outputs": [
    {
     "data": {
      "text/plain": [
       "(981756, 3)"
      ]
     },
     "execution_count": 4,
     "metadata": {},
     "output_type": "execute_result"
    }
   ],
   "source": [
    "ratings.shape"
   ]
  },
  {
   "cell_type": "code",
   "execution_count": 5,
   "metadata": {},
   "outputs": [],
   "source": [
    "from sklearn.model_selection import train_test_split\n",
    "train, test = train_test_split(ratings, test_size=0.2, random_state=64)"
   ]
  },
  {
   "cell_type": "code",
   "execution_count": 6,
   "metadata": {},
   "outputs": [
    {
     "data": {
      "text/html": [
       "<div>\n",
       "<style scoped>\n",
       "    .dataframe tbody tr th:only-of-type {\n",
       "        vertical-align: middle;\n",
       "    }\n",
       "\n",
       "    .dataframe tbody tr th {\n",
       "        vertical-align: top;\n",
       "    }\n",
       "\n",
       "    .dataframe thead th {\n",
       "        text-align: right;\n",
       "    }\n",
       "</style>\n",
       "<table border=\"1\" class=\"dataframe\">\n",
       "  <thead>\n",
       "    <tr style=\"text-align: right;\">\n",
       "      <th></th>\n",
       "      <th>book_id</th>\n",
       "      <th>user_id</th>\n",
       "      <th>rating</th>\n",
       "    </tr>\n",
       "  </thead>\n",
       "  <tbody>\n",
       "    <tr>\n",
       "      <th>137788</th>\n",
       "      <td>1379</td>\n",
       "      <td>5229</td>\n",
       "      <td>3</td>\n",
       "    </tr>\n",
       "    <tr>\n",
       "      <th>432152</th>\n",
       "      <td>4329</td>\n",
       "      <td>19194</td>\n",
       "      <td>3</td>\n",
       "    </tr>\n",
       "    <tr>\n",
       "      <th>318113</th>\n",
       "      <td>3184</td>\n",
       "      <td>31018</td>\n",
       "      <td>4</td>\n",
       "    </tr>\n",
       "  </tbody>\n",
       "</table>\n",
       "</div>"
      ],
      "text/plain": [
       "        book_id  user_id  rating\n",
       "137788     1379     5229       3\n",
       "432152     4329    19194       3\n",
       "318113     3184    31018       4"
      ]
     },
     "execution_count": 6,
     "metadata": {},
     "output_type": "execute_result"
    }
   ],
   "source": [
    "train.head(3)"
   ]
  },
  {
   "cell_type": "code",
   "execution_count": 7,
   "metadata": {},
   "outputs": [
    {
     "data": {
      "text/html": [
       "<div>\n",
       "<style scoped>\n",
       "    .dataframe tbody tr th:only-of-type {\n",
       "        vertical-align: middle;\n",
       "    }\n",
       "\n",
       "    .dataframe tbody tr th {\n",
       "        vertical-align: top;\n",
       "    }\n",
       "\n",
       "    .dataframe thead th {\n",
       "        text-align: right;\n",
       "    }\n",
       "</style>\n",
       "<table border=\"1\" class=\"dataframe\">\n",
       "  <thead>\n",
       "    <tr style=\"text-align: right;\">\n",
       "      <th></th>\n",
       "      <th>book_id</th>\n",
       "      <th>user_id</th>\n",
       "      <th>rating</th>\n",
       "    </tr>\n",
       "  </thead>\n",
       "  <tbody>\n",
       "    <tr>\n",
       "      <th>613794</th>\n",
       "      <td>6164</td>\n",
       "      <td>21787</td>\n",
       "      <td>4</td>\n",
       "    </tr>\n",
       "    <tr>\n",
       "      <th>494656</th>\n",
       "      <td>4959</td>\n",
       "      <td>31304</td>\n",
       "      <td>5</td>\n",
       "    </tr>\n",
       "    <tr>\n",
       "      <th>874919</th>\n",
       "      <td>8854</td>\n",
       "      <td>580</td>\n",
       "      <td>2</td>\n",
       "    </tr>\n",
       "  </tbody>\n",
       "</table>\n",
       "</div>"
      ],
      "text/plain": [
       "        book_id  user_id  rating\n",
       "613794     6164    21787       4\n",
       "494656     4959    31304       5\n",
       "874919     8854      580       2"
      ]
     },
     "execution_count": 7,
     "metadata": {},
     "output_type": "execute_result"
    }
   ],
   "source": [
    "test.head(3)"
   ]
  },
  {
   "cell_type": "code",
   "execution_count": 8,
   "metadata": {},
   "outputs": [
    {
     "data": {
      "text/plain": [
       "(53424, 10000)"
      ]
     },
     "execution_count": 8,
     "metadata": {},
     "output_type": "execute_result"
    }
   ],
   "source": [
    "n_users = len(ratings.user_id.unique())\n",
    "n_books = len(ratings.book_id.unique())\n",
    "n_latent_factors  = 5\n",
    "\n",
    "n_users, n_books"
   ]
  },
  {
   "cell_type": "code",
   "execution_count": 78,
   "metadata": {},
   "outputs": [
    {
     "name": "stdout",
     "output_type": "stream",
     "text": [
      "Model: \"model_2\"\n",
      "__________________________________________________________________________________________________\n",
      "Layer (type)                    Output Shape         Param #     Connected to                     \n",
      "==================================================================================================\n",
      "Book-Input (InputLayer)         (None, 1)            0                                            \n",
      "__________________________________________________________________________________________________\n",
      "User-Input (InputLayer)         (None, 1)            0                                            \n",
      "__________________________________________________________________________________________________\n",
      "Book-Embedding (Embedding)      (None, 1, 5)         50005       Book-Input[0][0]                 \n",
      "__________________________________________________________________________________________________\n",
      "User-Embedding (Embedding)      (None, 1, 5)         267125      User-Input[0][0]                 \n",
      "__________________________________________________________________________________________________\n",
      "Flattern-Books (Flatten)        (None, 5)            0           Book-Embedding[0][0]             \n",
      "__________________________________________________________________________________________________\n",
      "Flattern-Users (Flatten)        (None, 5)            0           User-Embedding[0][0]             \n",
      "__________________________________________________________________________________________________\n",
      "Dot-Product (Dot)               (None, 1)            0           Flattern-Books[0][0]             \n",
      "                                                                 Flattern-Users[0][0]             \n",
      "==================================================================================================\n",
      "Total params: 317,130\n",
      "Trainable params: 317,130\n",
      "Non-trainable params: 0\n",
      "__________________________________________________________________________________________________\n",
      "Train on 785404 samples, validate on 196352 samples\n",
      "Epoch 1/10\n",
      "785404/785404 [==============================] - 11s 13us/step - loss: 15.7310 - val_loss: 15.1890\n",
      "Epoch 2/10\n",
      "785404/785404 [==============================] - 10s 13us/step - loss: 12.8346 - val_loss: 10.1377\n",
      "Epoch 3/10\n",
      "785404/785404 [==============================] - 11s 14us/step - loss: 7.4303 - val_loss: 5.4782\n",
      "Epoch 4/10\n",
      "785404/785404 [==============================] - 12s 15us/step - loss: 3.8759 - val_loss: 3.1077\n",
      "Epoch 5/10\n",
      "785404/785404 [==============================] - 13s 17us/step - loss: 2.2405 - val_loss: 2.0772\n",
      "Epoch 6/10\n",
      "785404/785404 [==============================] - 12s 16us/step - loss: 1.5202 - val_loss: 1.5987\n",
      "Epoch 7/10\n",
      "785404/785404 [==============================] - 12s 16us/step - loss: 1.1692 - val_loss: 1.3443\n",
      "Epoch 8/10\n",
      "785404/785404 [==============================] - 13s 17us/step - loss: 0.9762 - val_loss: 1.1931\n",
      "Epoch 9/10\n",
      "785404/785404 [==============================] - 12s 15us/step - loss: 0.8594 - val_loss: 1.0952\n",
      "Epoch 10/10\n",
      "785404/785404 [==============================] - 12s 15us/step - loss: 0.7832 - val_loss: 1.0269\n"
     ]
    },
    {
     "data": {
      "text/plain": [
       "<keras.callbacks.callbacks.History at 0x223379de3c8>"
      ]
     },
     "execution_count": 78,
     "metadata": {},
     "output_type": "execute_result"
    }
   ],
   "source": [
    "book_input = Input(shape=(1,), name='Book-Input')\n",
    "book_embedding = Embedding(n_books+1, n_latent_factors, name='Book-Embedding')(book_input)\n",
    "book_vec = Flatten(name='Flattern-Books')(book_embedding)\n",
    "\n",
    "user_input = Input(shape=(1,), name='User-Input')\n",
    "user_embedding = Embedding(n_users+1, n_latent_factors, name='User-Embedding')(user_input)\n",
    "user_vec = Flatten(name='Flattern-Users')(user_embedding)\n",
    "\n",
    "prod = Dot(axes=1, name=\"Dot-Product\")([book_vec, user_vec])\n",
    "model = Model(inputs=[book_input, user_input], outputs=prod)\n",
    "model.compile(optimizer='adam', loss='mean_squared_error')\n",
    "model.summary()\n",
    "\n",
    "model.fit(x=[train.book_id, train.user_id], \n",
    "          y=train.rating, \n",
    "          epochs=10, \n",
    "          validation_data=[[test.book_id, test.user_id], test.rating], \n",
    "          batch_size=512)"
   ]
  },
  {
   "cell_type": "code",
   "execution_count": 178,
   "metadata": {},
   "outputs": [
    {
     "data": {
      "image/png": "[encoded data removed]",
      "text/plain": [
       "<Figure size 432x288 with 1 Axes>"
      ]
     },
     "metadata": {
      "needs_background": "light"
     },
     "output_type": "display_data"
    }
   ],
   "source": [
    "plt.plot(model.history.history['loss'])\n",
    "plt.plot(model.history.history['val_loss'])\n",
    "plt.legend(['loss', 'val_loss'])\n",
    "plt.xlabel('epochs')\n",
    "plt.ylabel('error')\n",
    "plt.show()"
   ]
  },
  {
   "cell_type": "code",
   "execution_count": 35,
   "metadata": {},
   "outputs": [
    {
     "name": "stdout",
     "output_type": "stream",
     "text": [
      "Model: \"model_3\"\n",
      "__________________________________________________________________________________________________\n",
      "Layer (type)                    Output Shape         Param #     Connected to                     \n",
      "==================================================================================================\n",
      "Book-Input (InputLayer)         (None, 1)            0                                            \n",
      "__________________________________________________________________________________________________\n",
      "User-Input (InputLayer)         (None, 1)            0                                            \n",
      "__________________________________________________________________________________________________\n",
      "Book-Embedding (Embedding)      (None, 1, 32)        320032      Book-Input[0][0]                 \n",
      "__________________________________________________________________________________________________\n",
      "User-Embedding (Embedding)      (None, 1, 8)         427400      User-Input[0][0]                 \n",
      "__________________________________________________________________________________________________\n",
      "Flattern-Books (Flatten)        (None, 32)           0           Book-Embedding[0][0]             \n",
      "__________________________________________________________________________________________________\n",
      "Flattern-Users (Flatten)        (None, 8)            0           User-Embedding[0][0]             \n",
      "__________________________________________________________________________________________________\n",
      "concatenate_3 (Concatenate)     (None, 40)           0           Flattern-Books[0][0]             \n",
      "                                                                 Flattern-Users[0][0]             \n",
      "__________________________________________________________________________________________________\n",
      "dense_7 (Dense)                 (None, 128)          5248        concatenate_3[0][0]              \n",
      "__________________________________________________________________________________________________\n",
      "dense_8 (Dense)                 (None, 32)           4128        dense_7[0][0]                    \n",
      "__________________________________________________________________________________________________\n",
      "dense_9 (Dense)                 (None, 1)            33          dense_8[0][0]                    \n",
      "==================================================================================================\n",
      "Total params: 756,841\n",
      "Trainable params: 756,841\n",
      "Non-trainable params: 0\n",
      "__________________________________________________________________________________________________\n",
      "Train on 785404 samples, validate on 196352 samples\n",
      "Epoch 1/4\n",
      "785404/785404 [==============================] - 28s 35us/step - loss: 1.1721 - val_loss: 0.7164\n",
      "Epoch 2/4\n",
      "785404/785404 [==============================] - 32s 41us/step - loss: 0.6796 - val_loss: 0.7042\n",
      "Epoch 3/4\n",
      "785404/785404 [==============================] - 32s 40us/step - loss: 0.6565 - val_loss: 0.7020\n",
      "Epoch 4/4\n",
      "785404/785404 [==============================] - 29s 37us/step - loss: 0.6333 - val_loss: 0.7058\n"
     ]
    },
    {
     "data": {
      "text/plain": [
       "<keras.callbacks.callbacks.History at 0x24568ec3cf8>"
      ]
     },
     "execution_count": 35,
     "metadata": {},
     "output_type": "execute_result"
    }
   ],
   "source": [
    "book_factors = 32\n",
    "user_factors = 8\n",
    "\n",
    "book_input = Input(shape=(1,), name='Book-Input')\n",
    "book_embedding = Embedding(n_books+1, book_factors, name='Book-Embedding')(book_input)\n",
    "book_vec = Flatten(name='Flattern-Books')(book_embedding)\n",
    "\n",
    "user_input = Input(shape=(1,), name='User-Input')\n",
    "user_embedding = Embedding(n_users+1, user_factors, name='User-Embedding')(user_input)\n",
    "user_vec = Flatten(name='Flattern-Users')(user_embedding)\n",
    "\n",
    "conc = Concatenate()([book_vec, user_vec])\n",
    "\n",
    "fc1 = Dense(128, activation='relu')(conc)\n",
    "fc2 = Dense(32, activation='relu')(fc1)\n",
    "out = Dense(1)(fc2)\n",
    "\n",
    "model2 = Model(inputs=[book_input, user_input], outputs=out)\n",
    "model2.compile(optimizer='adam', loss='mean_squared_error')\n",
    "model2.summary()\n",
    "\n",
    "model2.fit(x=[train.book_id, train.user_id], \n",
    "          y=train.rating, \n",
    "          epochs=4, \n",
    "          validation_data=[[test.book_id, test.user_id], test.rating], \n",
    "          batch_size=512)"
   ]
  },
  {
   "cell_type": "code",
   "execution_count": 36,
   "metadata": {},
   "outputs": [
    {
     "data": {
      "image/png": "[encoded data removed]",
      "text/plain": [
       "<Figure size 432x288 with 1 Axes>"
      ]
     },
     "metadata": {
      "needs_background": "light"
     },
     "output_type": "display_data"
    }
   ],
   "source": [
    "plt.plot(model2.history.history['loss'])\n",
    "plt.plot(model2.history.history['val_loss'])\n",
    "plt.legend(['loss', 'val_loss'])\n",
    "plt.xlabel('epochs')\n",
    "plt.ylabel('error')\n",
    "plt.show()"
   ]
  },
  {
   "cell_type": "code",
   "execution_count": 39,
   "metadata": {},
   "outputs": [
    {
     "data": {
      "text/plain": [
       "array([ 818, 3955, 4441, 8064, 5269, 8642, 4843, 5526, 1234, 7119],\n",
       "      dtype=int64)"
      ]
     },
     "execution_count": 39,
     "metadata": {},
     "output_type": "execute_result"
    }
   ],
   "source": [
    "book_data = ratings.book_id.unique()\n",
    "user = np.repeat(314, len(book_data))\n",
    "predictions = model2.predict([user, book_data]).reshape(-1)\n",
    "\n",
    "recommendations = (-predictions).argsort()[:10]\n",
    "recommendations"
   ]
  },
  {
   "cell_type": "code",
   "execution_count": 40,
   "metadata": {},
   "outputs": [
    {
     "data": {
      "text/plain": [
       "array([5.4019456, 5.315578 , 5.3074775, 5.2953286, 5.288089 , 5.270898 ,\n",
       "       5.263783 , 5.2606435, 5.2550693, 5.252222 ], dtype=float32)"
      ]
     },
     "execution_count": 40,
     "metadata": {},
     "output_type": "execute_result"
    }
   ],
   "source": [
    "predictions[recommendations]"
   ]
  },
  {
   "cell_type": "code",
   "execution_count": 41,
   "metadata": {},
   "outputs": [
    {
     "data": {
      "text/html": [
       "<div>\n",
       "<style scoped>\n",
       "    .dataframe tbody tr th:only-of-type {\n",
       "        vertical-align: middle;\n",
       "    }\n",
       "\n",
       "    .dataframe tbody tr th {\n",
       "        vertical-align: top;\n",
       "    }\n",
       "\n",
       "    .dataframe thead th {\n",
       "        text-align: right;\n",
       "    }\n",
       "</style>\n",
       "<table border=\"1\" class=\"dataframe\">\n",
       "  <thead>\n",
       "    <tr style=\"text-align: right;\">\n",
       "      <th></th>\n",
       "      <th>id</th>\n",
       "      <th>book_id</th>\n",
       "      <th>best_book_id</th>\n",
       "      <th>work_id</th>\n",
       "      <th>books_count</th>\n",
       "      <th>isbn</th>\n",
       "      <th>isbn13</th>\n",
       "      <th>authors</th>\n",
       "      <th>original_publication_year</th>\n",
       "      <th>original_title</th>\n",
       "      <th>...</th>\n",
       "      <th>ratings_count</th>\n",
       "      <th>work_ratings_count</th>\n",
       "      <th>work_text_reviews_count</th>\n",
       "      <th>ratings_1</th>\n",
       "      <th>ratings_2</th>\n",
       "      <th>ratings_3</th>\n",
       "      <th>ratings_4</th>\n",
       "      <th>ratings_5</th>\n",
       "      <th>image_url</th>\n",
       "      <th>small_image_url</th>\n",
       "    </tr>\n",
       "  </thead>\n",
       "  <tbody>\n",
       "    <tr>\n",
       "      <th>0</th>\n",
       "      <td>1</td>\n",
       "      <td>2767052</td>\n",
       "      <td>2767052</td>\n",
       "      <td>2792775</td>\n",
       "      <td>272</td>\n",
       "      <td>439023483</td>\n",
       "      <td>9.780439e+12</td>\n",
       "      <td>Suzanne Collins</td>\n",
       "      <td>2008.0</td>\n",
       "      <td>The Hunger Games</td>\n",
       "      <td>...</td>\n",
       "      <td>4780653</td>\n",
       "      <td>4942365</td>\n",
       "      <td>155254</td>\n",
       "      <td>66715</td>\n",
       "      <td>127936</td>\n",
       "      <td>560092</td>\n",
       "      <td>1481305</td>\n",
       "      <td>2706317</td>\n",
       "      <td>https://images.gr-assets.com/books/1447303603m...</td>\n",
       "      <td>https://images.gr-assets.com/books/1447303603s...</td>\n",
       "    </tr>\n",
       "    <tr>\n",
       "      <th>1</th>\n",
       "      <td>2</td>\n",
       "      <td>3</td>\n",
       "      <td>3</td>\n",
       "      <td>4640799</td>\n",
       "      <td>491</td>\n",
       "      <td>439554934</td>\n",
       "      <td>9.780440e+12</td>\n",
       "      <td>J.K. Rowling, Mary GrandPré</td>\n",
       "      <td>1997.0</td>\n",
       "      <td>Harry Potter and the Philosopher's Stone</td>\n",
       "      <td>...</td>\n",
       "      <td>4602479</td>\n",
       "      <td>4800065</td>\n",
       "      <td>75867</td>\n",
       "      <td>75504</td>\n",
       "      <td>101676</td>\n",
       "      <td>455024</td>\n",
       "      <td>1156318</td>\n",
       "      <td>3011543</td>\n",
       "      <td>https://images.gr-assets.com/books/1474154022m...</td>\n",
       "      <td>https://images.gr-assets.com/books/1474154022s...</td>\n",
       "    </tr>\n",
       "    <tr>\n",
       "      <th>2</th>\n",
       "      <td>3</td>\n",
       "      <td>41865</td>\n",
       "      <td>41865</td>\n",
       "      <td>3212258</td>\n",
       "      <td>226</td>\n",
       "      <td>316015849</td>\n",
       "      <td>9.780316e+12</td>\n",
       "      <td>Stephenie Meyer</td>\n",
       "      <td>2005.0</td>\n",
       "      <td>Twilight</td>\n",
       "      <td>...</td>\n",
       "      <td>3866839</td>\n",
       "      <td>3916824</td>\n",
       "      <td>95009</td>\n",
       "      <td>456191</td>\n",
       "      <td>436802</td>\n",
       "      <td>793319</td>\n",
       "      <td>875073</td>\n",
       "      <td>1355439</td>\n",
       "      <td>https://images.gr-assets.com/books/1361039443m...</td>\n",
       "      <td>https://images.gr-assets.com/books/1361039443s...</td>\n",
       "    </tr>\n",
       "    <tr>\n",
       "      <th>3</th>\n",
       "      <td>4</td>\n",
       "      <td>2657</td>\n",
       "      <td>2657</td>\n",
       "      <td>3275794</td>\n",
       "      <td>487</td>\n",
       "      <td>61120081</td>\n",
       "      <td>9.780061e+12</td>\n",
       "      <td>Harper Lee</td>\n",
       "      <td>1960.0</td>\n",
       "      <td>To Kill a Mockingbird</td>\n",
       "      <td>...</td>\n",
       "      <td>3198671</td>\n",
       "      <td>3340896</td>\n",
       "      <td>72586</td>\n",
       "      <td>60427</td>\n",
       "      <td>117415</td>\n",
       "      <td>446835</td>\n",
       "      <td>1001952</td>\n",
       "      <td>1714267</td>\n",
       "      <td>https://images.gr-assets.com/books/1361975680m...</td>\n",
       "      <td>https://images.gr-assets.com/books/1361975680s...</td>\n",
       "    </tr>\n",
       "    <tr>\n",
       "      <th>4</th>\n",
       "      <td>5</td>\n",
       "      <td>4671</td>\n",
       "      <td>4671</td>\n",
       "      <td>245494</td>\n",
       "      <td>1356</td>\n",
       "      <td>743273567</td>\n",
       "      <td>9.780743e+12</td>\n",
       "      <td>F. Scott Fitzgerald</td>\n",
       "      <td>1925.0</td>\n",
       "      <td>The Great Gatsby</td>\n",
       "      <td>...</td>\n",
       "      <td>2683664</td>\n",
       "      <td>2773745</td>\n",
       "      <td>51992</td>\n",
       "      <td>86236</td>\n",
       "      <td>197621</td>\n",
       "      <td>606158</td>\n",
       "      <td>936012</td>\n",
       "      <td>947718</td>\n",
       "      <td>https://images.gr-assets.com/books/1490528560m...</td>\n",
       "      <td>https://images.gr-assets.com/books/1490528560s...</td>\n",
       "    </tr>\n",
       "  </tbody>\n",
       "</table>\n",
       "<p>5 rows × 23 columns</p>\n",
       "</div>"
      ],
      "text/plain": [
       "   id  book_id  best_book_id  work_id  books_count       isbn        isbn13  \\\n",
       "0   1  2767052       2767052  2792775          272  439023483  9.780439e+12   \n",
       "1   2        3             3  4640799          491  439554934  9.780440e+12   \n",
       "2   3    41865         41865  3212258          226  316015849  9.780316e+12   \n",
       "3   4     2657          2657  3275794          487   61120081  9.780061e+12   \n",
       "4   5     4671          4671   245494         1356  743273567  9.780743e+12   \n",
       "\n",
       "                       authors  original_publication_year  \\\n",
       "0              Suzanne Collins                     2008.0   \n",
       "1  J.K. Rowling, Mary GrandPré                     1997.0   \n",
       "2              Stephenie Meyer                     2005.0   \n",
       "3                   Harper Lee                     1960.0   \n",
       "4          F. Scott Fitzgerald                     1925.0   \n",
       "\n",
       "                             original_title  ... ratings_count  \\\n",
       "0                          The Hunger Games  ...       4780653   \n",
       "1  Harry Potter and the Philosopher's Stone  ...       4602479   \n",
       "2                                  Twilight  ...       3866839   \n",
       "3                     To Kill a Mockingbird  ...       3198671   \n",
       "4                          The Great Gatsby  ...       2683664   \n",
       "\n",
       "  work_ratings_count  work_text_reviews_count  ratings_1  ratings_2  \\\n",
       "0            4942365                   155254      66715     127936   \n",
       "1            4800065                    75867      75504     101676   \n",
       "2            3916824                    95009     456191     436802   \n",
       "3            3340896                    72586      60427     117415   \n",
       "4            2773745                    51992      86236     197621   \n",
       "\n",
       "   ratings_3  ratings_4  ratings_5  \\\n",
       "0     560092    1481305    2706317   \n",
       "1     455024    1156318    3011543   \n",
       "2     793319     875073    1355439   \n",
       "3     446835    1001952    1714267   \n",
       "4     606158     936012     947718   \n",
       "\n",
       "                                           image_url  \\\n",
       "0  https://images.gr-assets.com/books/1447303603m...   \n",
       "1  https://images.gr-assets.com/books/1474154022m...   \n",
       "2  https://images.gr-assets.com/books/1361039443m...   \n",
       "3  https://images.gr-assets.com/books/1361975680m...   \n",
       "4  https://images.gr-assets.com/books/1490528560m...   \n",
       "\n",
       "                                     small_image_url  \n",
       "0  https://images.gr-assets.com/books/1447303603s...  \n",
       "1  https://images.gr-assets.com/books/1474154022s...  \n",
       "2  https://images.gr-assets.com/books/1361039443s...  \n",
       "3  https://images.gr-assets.com/books/1361975680s...  \n",
       "4  https://images.gr-assets.com/books/1490528560s...  \n",
       "\n",
       "[5 rows x 23 columns]"
      ]
     },
     "execution_count": 41,
     "metadata": {},
     "output_type": "execute_result"
    }
   ],
   "source": [
    "books = pd.read_csv('goodbooks-10k/books.csv')\n",
    "books.head()"
   ]
  },
  {
   "cell_type": "code",
   "execution_count": 42,
   "metadata": {},
   "outputs": [
    {
     "data": {
      "text/html": [
       "<div>\n",
       "<style scoped>\n",
       "    .dataframe tbody tr th:only-of-type {\n",
       "        vertical-align: middle;\n",
       "    }\n",
       "\n",
       "    .dataframe tbody tr th {\n",
       "        vertical-align: top;\n",
       "    }\n",
       "\n",
       "    .dataframe thead th {\n",
       "        text-align: right;\n",
       "    }\n",
       "</style>\n",
       "<table border=\"1\" class=\"dataframe\">\n",
       "  <thead>\n",
       "    <tr style=\"text-align: right;\">\n",
       "      <th></th>\n",
       "      <th>title</th>\n",
       "      <th>authors</th>\n",
       "      <th>original_publication_year</th>\n",
       "    </tr>\n",
       "  </thead>\n",
       "  <tbody>\n",
       "    <tr>\n",
       "      <th>817</th>\n",
       "      <td>Dreamcatcher</td>\n",
       "      <td>Stephen King, William Olivier Desmond</td>\n",
       "      <td>2001.0</td>\n",
       "    </tr>\n",
       "    <tr>\n",
       "      <th>1233</th>\n",
       "      <td>Sybil: The Classic True Story of a Woman Posse...</td>\n",
       "      <td>Flora Rheta Schreiber</td>\n",
       "      <td>1973.0</td>\n",
       "    </tr>\n",
       "    <tr>\n",
       "      <th>3954</th>\n",
       "      <td>The Book of Unknown Americans</td>\n",
       "      <td>Cristina Henriquez</td>\n",
       "      <td>2014.0</td>\n",
       "    </tr>\n",
       "    <tr>\n",
       "      <th>4440</th>\n",
       "      <td>The Aleph and Other Stories</td>\n",
       "      <td>Jorge Luis Borges, Andrew Hurley</td>\n",
       "      <td>1947.0</td>\n",
       "    </tr>\n",
       "    <tr>\n",
       "      <th>4842</th>\n",
       "      <td>Salt Sugar Fat: How the Food Giants Hooked Us</td>\n",
       "      <td>Michael Moss</td>\n",
       "      <td>2013.0</td>\n",
       "    </tr>\n",
       "    <tr>\n",
       "      <th>5268</th>\n",
       "      <td>Fermat's Enigma: The Epic Quest to Solve the W...</td>\n",
       "      <td>Simon Singh</td>\n",
       "      <td>1997.0</td>\n",
       "    </tr>\n",
       "    <tr>\n",
       "      <th>5525</th>\n",
       "      <td>Flush</td>\n",
       "      <td>Carl Hiaasen</td>\n",
       "      <td>2005.0</td>\n",
       "    </tr>\n",
       "    <tr>\n",
       "      <th>7118</th>\n",
       "      <td>The Ship Who Sang (Brainship, #1)</td>\n",
       "      <td>Anne McCaffrey</td>\n",
       "      <td>1969.0</td>\n",
       "    </tr>\n",
       "    <tr>\n",
       "      <th>8063</th>\n",
       "      <td>The Smartest Guys in the Room: The Amazing Ris...</td>\n",
       "      <td>Bethany McLean, Peter Elkind</td>\n",
       "      <td>2003.0</td>\n",
       "    </tr>\n",
       "    <tr>\n",
       "      <th>8641</th>\n",
       "      <td>Rival (Fall Away, #2)</td>\n",
       "      <td>Penelope Douglas, Abby Craden, Nelson Hobbs</td>\n",
       "      <td>2014.0</td>\n",
       "    </tr>\n",
       "  </tbody>\n",
       "</table>\n",
       "</div>"
      ],
      "text/plain": [
       "                                                  title  \\\n",
       "817                                        Dreamcatcher   \n",
       "1233  Sybil: The Classic True Story of a Woman Posse...   \n",
       "3954                      The Book of Unknown Americans   \n",
       "4440                       The Aleph and Other Stories    \n",
       "4842      Salt Sugar Fat: How the Food Giants Hooked Us   \n",
       "5268  Fermat's Enigma: The Epic Quest to Solve the W...   \n",
       "5525                                              Flush   \n",
       "7118                  The Ship Who Sang (Brainship, #1)   \n",
       "8063  The Smartest Guys in the Room: The Amazing Ris...   \n",
       "8641                              Rival (Fall Away, #2)   \n",
       "\n",
       "                                          authors  original_publication_year  \n",
       "817         Stephen King, William Olivier Desmond                     2001.0  \n",
       "1233                        Flora Rheta Schreiber                     1973.0  \n",
       "3954                           Cristina Henriquez                     2014.0  \n",
       "4440             Jorge Luis Borges, Andrew Hurley                     1947.0  \n",
       "4842                                 Michael Moss                     2013.0  \n",
       "5268                                  Simon Singh                     1997.0  \n",
       "5525                                 Carl Hiaasen                     2005.0  \n",
       "7118                               Anne McCaffrey                     1969.0  \n",
       "8063                 Bethany McLean, Peter Elkind                     2003.0  \n",
       "8641  Penelope Douglas, Abby Craden, Nelson Hobbs                     2014.0  "
      ]
     },
     "execution_count": 42,
     "metadata": {},
     "output_type": "execute_result"
    }
   ],
   "source": [
    "recommended_books = books[books.id.isin(recommendations)]\n",
    "recommended_books[['title', 'authors', 'original_publication_year']]"
   ]
  },
  {
   "cell_type": "markdown",
   "metadata": {},
   "source": [
    "## Book Similarities"
   ]
  },
  {
   "cell_type": "code",
   "execution_count": 43,
   "metadata": {},
   "outputs": [
    {
     "data": {
      "text/plain": [
       "(10001, 32)"
      ]
     },
     "execution_count": 43,
     "metadata": {},
     "output_type": "execute_result"
    }
   ],
   "source": [
    "book_layer = model2.get_layer('Book-Embedding')\n",
    "book_weights = book_layer.get_weights()[0]\n",
    "book_weights.shape"
   ]
  },
  {
   "cell_type": "code",
   "execution_count": 68,
   "metadata": {},
   "outputs": [
    {
     "data": {
      "text/html": [
       "<div>\n",
       "<style scoped>\n",
       "    .dataframe tbody tr th:only-of-type {\n",
       "        vertical-align: middle;\n",
       "    }\n",
       "\n",
       "    .dataframe tbody tr th {\n",
       "        vertical-align: top;\n",
       "    }\n",
       "\n",
       "    .dataframe thead th {\n",
       "        text-align: right;\n",
       "    }\n",
       "</style>\n",
       "<table border=\"1\" class=\"dataframe\">\n",
       "  <thead>\n",
       "    <tr style=\"text-align: right;\">\n",
       "      <th></th>\n",
       "      <th>title</th>\n",
       "      <th>authors</th>\n",
       "      <th>original_publication_year</th>\n",
       "    </tr>\n",
       "  </thead>\n",
       "  <tbody>\n",
       "    <tr>\n",
       "      <th>431</th>\n",
       "      <td>I, Robot (Robot #0.1)</td>\n",
       "      <td>Isaac Asimov</td>\n",
       "      <td>1950.0</td>\n",
       "    </tr>\n",
       "    <tr>\n",
       "      <th>892</th>\n",
       "      <td>Fullmetal Alchemist, Vol. 1 (Fullmetal Alchemi...</td>\n",
       "      <td>Hiromu Arakawa, Akira Watanabe</td>\n",
       "      <td>2002.0</td>\n",
       "    </tr>\n",
       "    <tr>\n",
       "      <th>1307</th>\n",
       "      <td>A Court of Mist and Fury (A Court of Thorns an...</td>\n",
       "      <td>Sarah J. Maas</td>\n",
       "      <td>2016.0</td>\n",
       "    </tr>\n",
       "    <tr>\n",
       "      <th>2150</th>\n",
       "      <td>Saga #1</td>\n",
       "      <td>Brian K. Vaughan, Fiona Staples</td>\n",
       "      <td>2012.0</td>\n",
       "    </tr>\n",
       "    <tr>\n",
       "      <th>2166</th>\n",
       "      <td>Empire of Storms (Throne of Glass, #5)</td>\n",
       "      <td>Sarah J. Maas</td>\n",
       "      <td>2016.0</td>\n",
       "    </tr>\n",
       "    <tr>\n",
       "      <th>3227</th>\n",
       "      <td>Salt to the Sea</td>\n",
       "      <td>Ruta Sepetys</td>\n",
       "      <td>2016.0</td>\n",
       "    </tr>\n",
       "    <tr>\n",
       "      <th>5657</th>\n",
       "      <td>All Things Wise and Wonderful</td>\n",
       "      <td>James Herriot</td>\n",
       "      <td>1976.0</td>\n",
       "    </tr>\n",
       "    <tr>\n",
       "      <th>6994</th>\n",
       "      <td>The Peacegiver: How Christ Offers to Heal Our ...</td>\n",
       "      <td>James L. Ferrell</td>\n",
       "      <td>2004.0</td>\n",
       "    </tr>\n",
       "    <tr>\n",
       "      <th>7038</th>\n",
       "      <td>The Brothers Lionheart</td>\n",
       "      <td>Astrid Lindgren, Ilon Wikland, Jill M. Morgan</td>\n",
       "      <td>1973.0</td>\n",
       "    </tr>\n",
       "    <tr>\n",
       "      <th>7116</th>\n",
       "      <td>Life Together: The Classic Exploration of Chri...</td>\n",
       "      <td>Dietrich Bonhoeffer</td>\n",
       "      <td>1939.0</td>\n",
       "    </tr>\n",
       "  </tbody>\n",
       "</table>\n",
       "</div>"
      ],
      "text/plain": [
       "                                                  title  \\\n",
       "431                               I, Robot (Robot #0.1)   \n",
       "892   Fullmetal Alchemist, Vol. 1 (Fullmetal Alchemi...   \n",
       "1307  A Court of Mist and Fury (A Court of Thorns an...   \n",
       "2150                                            Saga #1   \n",
       "2166             Empire of Storms (Throne of Glass, #5)   \n",
       "3227                                    Salt to the Sea   \n",
       "5657                      All Things Wise and Wonderful   \n",
       "6994  The Peacegiver: How Christ Offers to Heal Our ...   \n",
       "7038                             The Brothers Lionheart   \n",
       "7116  Life Together: The Classic Exploration of Chri...   \n",
       "\n",
       "                                            authors  original_publication_year  \n",
       "431                                    Isaac Asimov                     1950.0  \n",
       "892                  Hiromu Arakawa, Akira Watanabe                     2002.0  \n",
       "1307                                  Sarah J. Maas                     2016.0  \n",
       "2150                Brian K. Vaughan, Fiona Staples                     2012.0  \n",
       "2166                                  Sarah J. Maas                     2016.0  \n",
       "3227                                   Ruta Sepetys                     2016.0  \n",
       "5657                                  James Herriot                     1976.0  \n",
       "6994                               James L. Ferrell                     2004.0  \n",
       "7038  Astrid Lindgren, Ilon Wikland, Jill M. Morgan                     1973.0  \n",
       "7116                            Dietrich Bonhoeffer                     1939.0  "
      ]
     },
     "execution_count": 68,
     "metadata": {},
     "output_type": "execute_result"
    }
   ],
   "source": [
    "compare_book_id = 432\n",
    "book_weight = book_weights[compare_book_id]\n",
    "similiarities = (book_weights @ book_weight) / np.linalg.norm(book_weights, axis = 1)\n",
    "similiarities = (-similiarities).argsort()[:10]\n",
    "\n",
    "\n",
    "recommended_books = books[books.id.isin(similiarities)]\n",
    "recommended_books[['title', 'authors', 'original_publication_year']]"
   ]
  },
  {
   "cell_type": "code",
   "execution_count": 66,
   "metadata": {},
   "outputs": [
    {
     "data": {
      "text/html": [
       "<div>\n",
       "<style scoped>\n",
       "    .dataframe tbody tr th:only-of-type {\n",
       "        vertical-align: middle;\n",
       "    }\n",
       "\n",
       "    .dataframe tbody tr th {\n",
       "        vertical-align: top;\n",
       "    }\n",
       "\n",
       "    .dataframe thead th {\n",
       "        text-align: right;\n",
       "    }\n",
       "</style>\n",
       "<table border=\"1\" class=\"dataframe\">\n",
       "  <thead>\n",
       "    <tr style=\"text-align: right;\">\n",
       "      <th></th>\n",
       "      <th>id</th>\n",
       "      <th>book_id</th>\n",
       "      <th>best_book_id</th>\n",
       "      <th>work_id</th>\n",
       "      <th>books_count</th>\n",
       "      <th>isbn</th>\n",
       "      <th>isbn13</th>\n",
       "      <th>authors</th>\n",
       "      <th>original_publication_year</th>\n",
       "      <th>original_title</th>\n",
       "      <th>...</th>\n",
       "      <th>ratings_count</th>\n",
       "      <th>work_ratings_count</th>\n",
       "      <th>work_text_reviews_count</th>\n",
       "      <th>ratings_1</th>\n",
       "      <th>ratings_2</th>\n",
       "      <th>ratings_3</th>\n",
       "      <th>ratings_4</th>\n",
       "      <th>ratings_5</th>\n",
       "      <th>image_url</th>\n",
       "      <th>small_image_url</th>\n",
       "    </tr>\n",
       "  </thead>\n",
       "  <tbody>\n",
       "    <tr>\n",
       "      <th>431</th>\n",
       "      <td>432</td>\n",
       "      <td>41804</td>\n",
       "      <td>41804</td>\n",
       "      <td>1796026</td>\n",
       "      <td>218</td>\n",
       "      <td>553803700</td>\n",
       "      <td>9.780554e+12</td>\n",
       "      <td>Isaac Asimov</td>\n",
       "      <td>1950.0</td>\n",
       "      <td>I, Robot</td>\n",
       "      <td>...</td>\n",
       "      <td>198368</td>\n",
       "      <td>210219</td>\n",
       "      <td>4335</td>\n",
       "      <td>1221</td>\n",
       "      <td>5332</td>\n",
       "      <td>35107</td>\n",
       "      <td>82535</td>\n",
       "      <td>86024</td>\n",
       "      <td>https://images.gr-assets.com/books/1388321463m...</td>\n",
       "      <td>https://images.gr-assets.com/books/1388321463s...</td>\n",
       "    </tr>\n",
       "    <tr>\n",
       "      <th>1913</th>\n",
       "      <td>1914</td>\n",
       "      <td>41811</td>\n",
       "      <td>41811</td>\n",
       "      <td>140376</td>\n",
       "      <td>139</td>\n",
       "      <td>586008357</td>\n",
       "      <td>9.780586e+12</td>\n",
       "      <td>Isaac Asimov</td>\n",
       "      <td>1954.0</td>\n",
       "      <td>The Caves of Steel</td>\n",
       "      <td>...</td>\n",
       "      <td>51059</td>\n",
       "      <td>58121</td>\n",
       "      <td>1689</td>\n",
       "      <td>212</td>\n",
       "      <td>1282</td>\n",
       "      <td>10553</td>\n",
       "      <td>24246</td>\n",
       "      <td>21828</td>\n",
       "      <td>https://images.gr-assets.com/books/1335782224m...</td>\n",
       "      <td>https://images.gr-assets.com/books/1335782224s...</td>\n",
       "    </tr>\n",
       "    <tr>\n",
       "      <th>3753</th>\n",
       "      <td>3754</td>\n",
       "      <td>30016</td>\n",
       "      <td>30016</td>\n",
       "      <td>1583154</td>\n",
       "      <td>109</td>\n",
       "      <td>586010165</td>\n",
       "      <td>9.780586e+12</td>\n",
       "      <td>Isaac Asimov</td>\n",
       "      <td>1957.0</td>\n",
       "      <td>The Naked Sun</td>\n",
       "      <td>...</td>\n",
       "      <td>26532</td>\n",
       "      <td>31536</td>\n",
       "      <td>913</td>\n",
       "      <td>61</td>\n",
       "      <td>584</td>\n",
       "      <td>5820</td>\n",
       "      <td>14039</td>\n",
       "      <td>11032</td>\n",
       "      <td>https://images.gr-assets.com/books/1335782263m...</td>\n",
       "      <td>https://images.gr-assets.com/books/1335782263s...</td>\n",
       "    </tr>\n",
       "    <tr>\n",
       "      <th>3977</th>\n",
       "      <td>3978</td>\n",
       "      <td>41810</td>\n",
       "      <td>41810</td>\n",
       "      <td>905286</td>\n",
       "      <td>85</td>\n",
       "      <td>553299492</td>\n",
       "      <td>9.780553e+12</td>\n",
       "      <td>Isaac Asimov</td>\n",
       "      <td>1983.0</td>\n",
       "      <td>The Robots of Dawn</td>\n",
       "      <td>...</td>\n",
       "      <td>26075</td>\n",
       "      <td>29192</td>\n",
       "      <td>840</td>\n",
       "      <td>103</td>\n",
       "      <td>677</td>\n",
       "      <td>5409</td>\n",
       "      <td>12275</td>\n",
       "      <td>10728</td>\n",
       "      <td>https://images.gr-assets.com/books/1351030933m...</td>\n",
       "      <td>https://images.gr-assets.com/books/1351030933s...</td>\n",
       "    </tr>\n",
       "    <tr>\n",
       "      <th>5781</th>\n",
       "      <td>5782</td>\n",
       "      <td>76688</td>\n",
       "      <td>76688</td>\n",
       "      <td>1932588</td>\n",
       "      <td>30</td>\n",
       "      <td>586062009</td>\n",
       "      <td>9.780586e+12</td>\n",
       "      <td>Isaac Asimov</td>\n",
       "      <td>1985.0</td>\n",
       "      <td>Robots and Empire</td>\n",
       "      <td>...</td>\n",
       "      <td>18462</td>\n",
       "      <td>20076</td>\n",
       "      <td>446</td>\n",
       "      <td>56</td>\n",
       "      <td>430</td>\n",
       "      <td>3468</td>\n",
       "      <td>8256</td>\n",
       "      <td>7866</td>\n",
       "      <td>https://images.gr-assets.com/books/1335782304m...</td>\n",
       "      <td>https://images.gr-assets.com/books/1335782304s...</td>\n",
       "    </tr>\n",
       "    <tr>\n",
       "      <th>9757</th>\n",
       "      <td>9758</td>\n",
       "      <td>50091</td>\n",
       "      <td>50091</td>\n",
       "      <td>2361910</td>\n",
       "      <td>36</td>\n",
       "      <td>586057242</td>\n",
       "      <td>9.780586e+12</td>\n",
       "      <td>Isaac Asimov</td>\n",
       "      <td>1982.0</td>\n",
       "      <td>The Complete Robot</td>\n",
       "      <td>...</td>\n",
       "      <td>10362</td>\n",
       "      <td>11162</td>\n",
       "      <td>286</td>\n",
       "      <td>30</td>\n",
       "      <td>112</td>\n",
       "      <td>1351</td>\n",
       "      <td>4169</td>\n",
       "      <td>5500</td>\n",
       "      <td>https://images.gr-assets.com/books/1405467461m...</td>\n",
       "      <td>https://images.gr-assets.com/books/1405467461s...</td>\n",
       "    </tr>\n",
       "  </tbody>\n",
       "</table>\n",
       "<p>6 rows × 23 columns</p>\n",
       "</div>"
      ],
      "text/plain": [
       "        id  book_id  best_book_id  work_id  books_count       isbn  \\\n",
       "431    432    41804         41804  1796026          218  553803700   \n",
       "1913  1914    41811         41811   140376          139  586008357   \n",
       "3753  3754    30016         30016  1583154          109  586010165   \n",
       "3977  3978    41810         41810   905286           85  553299492   \n",
       "5781  5782    76688         76688  1932588           30  586062009   \n",
       "9757  9758    50091         50091  2361910           36  586057242   \n",
       "\n",
       "            isbn13       authors  original_publication_year  \\\n",
       "431   9.780554e+12  Isaac Asimov                     1950.0   \n",
       "1913  9.780586e+12  Isaac Asimov                     1954.0   \n",
       "3753  9.780586e+12  Isaac Asimov                     1957.0   \n",
       "3977  9.780553e+12  Isaac Asimov                     1983.0   \n",
       "5781  9.780586e+12  Isaac Asimov                     1985.0   \n",
       "9757  9.780586e+12  Isaac Asimov                     1982.0   \n",
       "\n",
       "          original_title  ... ratings_count work_ratings_count  \\\n",
       "431             I, Robot  ...        198368             210219   \n",
       "1913  The Caves of Steel  ...         51059              58121   \n",
       "3753       The Naked Sun  ...         26532              31536   \n",
       "3977  The Robots of Dawn  ...         26075              29192   \n",
       "5781   Robots and Empire  ...         18462              20076   \n",
       "9757  The Complete Robot  ...         10362              11162   \n",
       "\n",
       "      work_text_reviews_count  ratings_1  ratings_2  ratings_3  ratings_4  \\\n",
       "431                      4335       1221       5332      35107      82535   \n",
       "1913                     1689        212       1282      10553      24246   \n",
       "3753                      913         61        584       5820      14039   \n",
       "3977                      840        103        677       5409      12275   \n",
       "5781                      446         56        430       3468       8256   \n",
       "9757                      286         30        112       1351       4169   \n",
       "\n",
       "      ratings_5                                          image_url  \\\n",
       "431       86024  https://images.gr-assets.com/books/1388321463m...   \n",
       "1913      21828  https://images.gr-assets.com/books/1335782224m...   \n",
       "3753      11032  https://images.gr-assets.com/books/1335782263m...   \n",
       "3977      10728  https://images.gr-assets.com/books/1351030933m...   \n",
       "5781       7866  https://images.gr-assets.com/books/1335782304m...   \n",
       "9757       5500  https://images.gr-assets.com/books/1405467461m...   \n",
       "\n",
       "                                        small_image_url  \n",
       "431   https://images.gr-assets.com/books/1388321463s...  \n",
       "1913  https://images.gr-assets.com/books/1335782224s...  \n",
       "3753  https://images.gr-assets.com/books/1335782263s...  \n",
       "3977  https://images.gr-assets.com/books/1351030933s...  \n",
       "5781  https://images.gr-assets.com/books/1335782304s...  \n",
       "9757  https://images.gr-assets.com/books/1405467461s...  \n",
       "\n",
       "[6 rows x 23 columns]"
      ]
     },
     "execution_count": 66,
     "metadata": {},
     "output_type": "execute_result"
    }
   ],
   "source": [
    "books[books.title.str.contains('robot', case=False)]"
   ]
  },
  {
   "cell_type": "code",
   "execution_count": 212,
   "metadata": {},
   "outputs": [],
   "source": [
    "from sklearn.manifold import TSNE\n",
    "import umap\n",
    "\n",
    "def reduce_dim(weights, components = 3, method = 'tsne'):\n",
    "    \"\"\"Reduce dimensions of embeddings\"\"\"\n",
    "    if method == 'tsne':\n",
    "        return TSNE(components, metric = 'cosine').fit_transform(weights)\n",
    "    elif method == 'umap':\n",
    "        # Might want to try different parameters for UMAP\n",
    "        return umap.UMAP(n_components=components, metric = 'cosine', \n",
    "                    init = 'random', n_neighbors = 5).fit_transform(weights)"
   ]
  },
  {
   "cell_type": "code",
   "execution_count": 213,
   "metadata": {},
   "outputs": [],
   "source": [
    "book_r = reduce_dim(book_weights, components = 2, method = 'umap')"
   ]
  },
  {
   "cell_type": "code",
   "execution_count": 215,
   "metadata": {},
   "outputs": [
    {
     "data": {
      "image/png": "[encoded data removed]",
      "text/plain": [
       "<Figure size 720x576 with 1 Axes>"
      ]
     },
     "metadata": {
      "needs_background": "light"
     },
     "output_type": "display_data"
    }
   ],
   "source": [
    "plt.figure(figsize = (10, 8))\n",
    "plt.plot(book_r[:, 0], book_r[:, 1], 'r.')\n",
    "plt.xlabel('TSNE 1'); plt.ylabel('TSNE 2'); plt.title('Book Embeddings Visualized with TSNE');"
   ]
  },
  {
   "cell_type": "code",
   "execution_count": 216,
   "metadata": {},
   "outputs": [
    {
     "data": {
      "text/plain": [
       "Index(['Stephen King', 'Nora Roberts', 'Dean Koontz', 'Terry Pratchett'], dtype='object')"
      ]
     },
     "execution_count": 216,
     "metadata": {},
     "output_type": "execute_result"
    }
   ],
   "source": [
    "top_authors = books.authors.value_counts()\n",
    "top_authors = top_authors[top_authors > 40]\n",
    "top_authors.keys()"
   ]
  },
  {
   "cell_type": "code",
   "execution_count": 217,
   "metadata": {},
   "outputs": [],
   "source": [
    "a = books['authors'].copy()\n",
    "a = a.append(pd.Series(['Slava Spirin'], index=[10000]))\n",
    "\n",
    "a = a.map({'Stephen King':0, 'Nora Roberts':1, 'Dean Koontz':2, 'Terry Pratchett':3})\n",
    "# a = a[a>0]\n",
    "colormap = np.array(['b','b', 'g', 'r', 'y'])\n",
    "# plt.figure(figsize = (10, 8))\n",
    "# plt.scatter(book_r[:, 0], book_r[:, 1], c=a)\n",
    "# plt.xlabel('TSNE 1')\n",
    "# plt.ylabel('TSNE 2')\n",
    "# plt.title('Book Embeddings Visualized with TSNE')\n",
    "b = np.array((a[a>0]), dtype='int')"
   ]
  },
  {
   "cell_type": "code",
   "execution_count": 218,
   "metadata": {},
   "outputs": [
    {
     "data": {
      "text/plain": [
       "<matplotlib.collections.PathCollection at 0x2451cb15c88>"
      ]
     },
     "execution_count": 218,
     "metadata": {},
     "output_type": "execute_result"
    },
    {
     "data": {
      "image/png": "[encoded data removed]",
      "text/plain": [
       "<Figure size 432x288 with 1 Axes>"
      ]
     },
     "metadata": {
      "needs_background": "light"
     },
     "output_type": "display_data"
    }
   ],
   "source": [
    "plt.scatter(book_r[a>0, 0], book_r[a>0, 1], c=colormap[b])"
   ]
  }
 ],
 "metadata": {
  "kernelspec": {
   "display_name": "Python 3",
   "language": "python",
   "name": "python3"
  },
  "language_info": {
   "codemirror_mode": {
    "name": "ipython",
    "version": 3
   },
   "file_extension": ".py",
   "mimetype": "text/x-python",
   "name": "python",
   "nbconvert_exporter": "python",
   "pygments_lexer": "ipython3",
   "version": "3.7.3"
  }
 },
 "nbformat": 4,
 "nbformat_minor": 2
}
